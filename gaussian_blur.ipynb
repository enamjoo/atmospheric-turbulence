{
 "cells": [
  {
   "cell_type": "code",
   "execution_count": 1,
   "id": "e65641e7",
   "metadata": {},
   "outputs": [],
   "source": [
    "import cv2\n",
    "import matplotlib.pyplot as plt\n",
    "from tqdm import tqdm\n",
    "import os"
   ]
  },
  {
   "cell_type": "code",
   "execution_count": 2,
   "id": "e0b79b8b",
   "metadata": {},
   "outputs": [
    {
     "name": "stdout",
     "output_type": "stream",
     "text": [
      "Dataset: lfw\n"
     ]
    },
    {
     "name": "stderr",
     "output_type": "stream",
     "text": [
      "100%|██████████| 12000/12000 [01:08<00:00, 174.98it/s]\n"
     ]
    },
    {
     "name": "stdout",
     "output_type": "stream",
     "text": [
      "Dataset: agedb\n"
     ]
    },
    {
     "name": "stderr",
     "output_type": "stream",
     "text": [
      "100%|██████████| 12000/12000 [01:07<00:00, 178.72it/s]\n"
     ]
    }
   ],
   "source": [
    "# Apply Gaussian blur to the entire dataset\n",
    "ksize = [31,31]\n",
    "for dataset in ['lfw', 'agedb']:\n",
    "    print('Dataset:', dataset)\n",
    "    data_path = './images/{}'.format(dataset)\n",
    "    image_list = os.listdir(data_path)\n",
    "    for image_name in tqdm(image_list):\n",
    "        image = cv2.imread(os.path.join(data_path, image_name))\n",
    "        \n",
    "        for sigma in range(1,6):\n",
    "            # Gaussian blur\n",
    "            image = cv2.GaussianBlur(image, ksize, sigma, sigma)\n",
    "\n",
    "            # save image\n",
    "            output_path = './images/{}_blur_{}'.format(dataset, sigma)\n",
    "            if not os.path.exists(output_path):\n",
    "                os.makedirs(output_path)\n",
    "            out_image_path = os.path.join(output_path, image_name)\n",
    "            cv2.imwrite(out_image_path, image)"
   ]
  },
  {
   "cell_type": "code",
   "execution_count": null,
   "id": "08e31e32",
   "metadata": {},
   "outputs": [],
   "source": []
  }
 ],
 "metadata": {
  "kernelspec": {
   "display_name": "Python 3",
   "language": "python",
   "name": "python3"
  },
  "language_info": {
   "codemirror_mode": {
    "name": "ipython",
    "version": 3
   },
   "file_extension": ".py",
   "mimetype": "text/x-python",
   "name": "python",
   "nbconvert_exporter": "python",
   "pygments_lexer": "ipython3",
   "version": "3.6.13"
  }
 },
 "nbformat": 4,
 "nbformat_minor": 5
}
